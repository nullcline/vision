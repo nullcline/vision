{
 "cells": [
  {
   "cell_type": "code",
   "execution_count": 85,
   "metadata": {},
   "outputs": [],
   "source": [
    "import cv2\n",
    "import numpy as np\n",
    "import math\n",
    "from matplotlib import pyplot as plt\n",
    "from yolov7.disk_detector import DiskDetector\n",
    "from extract_metadata import extract_metadata\n",
    "import pandas as pd\n",
    "import plotly.express as px\n",
    "from math import sin, cos, sqrt, atan2, radians\n",
    "import numpy as np\n",
    "from pymap3d import vincenty\n",
    "\n",
    "class DEFAULTS:\n",
    "    average_lat = 31.9686\n",
    "    average_alt = 98 # Height from sea level [m]\n",
    "    debug = True\n",
    "    show_result = True\n",
    "    thresh = 10\n",
    "    noise_atten = 50\n",
    "    starting_lat = 49.25873130555556\n",
    "    starting_lon = -123.24252083333333\n",
    "    true_lat =  49.258777305555554\n",
    "    true_lon =  -123.24260088888889"
   ]
  },
  {
   "cell_type": "code",
   "execution_count": 86,
   "metadata": {},
   "outputs": [],
   "source": [
    "def x_algorithm(x1, y1, theta1, x2, y2, theta2):\n",
    "    '''\n",
    "    Geometry at the core of the X algorithm, written in a separate function cause I tried to make it run faster but failed lol.\n",
    "    Takes in the relative cartesian position of the camera from the starting point and the angles between the camera and the disks.\n",
    "    Returns the relative cartesian position of the landing zone from the starting point, to be converted to GPS coordinates.\n",
    "\n",
    "    A better breakdown of how this works can be seen in the x.py script.\n",
    "    '''\n",
    "\n",
    "    m1 = -np.tan(theta1)\n",
    "    m2 = -np.tan(theta2)\n",
    "    if m1 == m2:\n",
    "        return None, None\n",
    "\n",
    "    x = ((y2 - m2 * x2) - (y1 - m1 * x1)) / (m1 - m2)\n",
    "    y = m1 * x + (y1 - m1 * x1)\n",
    "\n",
    "    if x > 10000 or x < -10000:\n",
    "\n",
    "        if False:\n",
    "            print(\"Found outlier\")\n",
    "            print(f\"t1:{theta1} t2:{theta2}\")\n",
    "            print(f\"x1:{x1} y1:{y1} x2:{x2} y2:{y2}\")\n",
    "            print(f\"disk:{detected_disk.id} disk2: {detected_disk.id}\")\n",
    "\n",
    "        return None, None\n",
    "\n",
    "    return -x, y"
   ]
  },
  {
   "cell_type": "code",
   "execution_count": 87,
   "metadata": {},
   "outputs": [],
   "source": [
    "def gps2cartesian(lat, lon, lat_0 = DEFAULTS.starting_lat, lon_0 = DEFAULTS.starting_lon):\n",
    "        avelat = DEFAULTS.average_lat\n",
    "        \n",
    "        # return x, y\n",
    "        radiusatlocation = math.sqrt((((((6378.137**2)*math.cos(avelat))**2)\n",
    "                           + ((6356.752**2)*math.sin(avelat))**2))\n",
    "                           /(((6378.137*math.cos(avelat))**2)\n",
    "                           + ((6356.752*math.sin(avelat))**2)))\n",
    "\n",
    "        # print('Radius in m at location =', radiusatlocation)\n",
    "\n",
    "        x = radiusatlocation * (lon - lon_0)*(math.pi/180) * 1000\n",
    "        y = radiusatlocation * (lat - lat_0)*(math.pi/180) * 1000\n",
    "\n",
    "        return x, y\n",
    "    \n",
    "def cartesian2gps(x, y, lat_0 = DEFAULTS.starting_lat, lon_0 = DEFAULTS.starting_lon):\n",
    "\n",
    "    # just the opposite of gps2cartesian\n",
    "    avelat = DEFAULTS.average_lat\n",
    "\n",
    "    radiusatlocation = math.sqrt((((((6378.137**2)*math.cos(avelat))**2)\n",
    "                        + ((6356.752**2)*math.sin(avelat))**2))\n",
    "                        /(((6378.137*math.cos(avelat))**2)\n",
    "                        + ((6356.752*math.sin(avelat))**2)))\n",
    "\n",
    "    # print('Radius in m at location =', radiusatlocation)\n",
    "\n",
    "    lon = x / (radiusatlocation*(math.pi/180) * 1000) + lon_0\n",
    "    lat = y / (radiusatlocation*(math.pi/180) * 1000) + lat_0\n",
    "\n",
    "    return lat, lon\n",
    "    "
   ]
  },
  {
   "cell_type": "code",
   "execution_count": 88,
   "metadata": {},
   "outputs": [
    {
     "name": "stderr",
     "output_type": "stream",
     "text": [
      "YOLOR  d5dabb4 torch 2.0.1+cu117 CUDA:0 (NVIDIA GeForce RTX 3060 Laptop GPU, 6143.5MB)\n",
      "\n"
     ]
    },
    {
     "name": "stdout",
     "output_type": "stream",
     "text": [
      "Fusing layers... \n"
     ]
    },
    {
     "name": "stderr",
     "output_type": "stream",
     "text": [
      "Model Summary: 314 layers, 36481772 parameters, 6194944 gradients\n"
     ]
    },
    {
     "name": "stdout",
     "output_type": "stream",
     "text": [
      "RepConv.fuse_repvgg_block\n",
      "RepConv.fuse_repvgg_block\n",
      "RepConv.fuse_repvgg_block\n",
      "IDetect.fuse\n"
     ]
    }
   ],
   "source": [
    "disk_detector = DiskDetector()\n",
    "disk_detector.setup()"
   ]
  },
  {
   "cell_type": "code",
   "execution_count": 89,
   "metadata": {},
   "outputs": [],
   "source": [
    "def analyze(disk_detector, filepath):\n",
    "    \n",
    "    image = cv2.imread(filepath)\n",
    "    metadata = extract_metadata(filepath)\n",
    "    \n",
    "    lat = metadata['lat']\n",
    "    lon = metadata['lon']\n",
    "    \n",
    "    x, y = gps2cartesian(lat, lon)\n",
    "    print(x, y)\n",
    "    \n",
    "    \n",
    "    h, w, _ = image.shape\n",
    "    for cX, cY in disk_detector.predict(image):\n",
    "        if cX is None:\n",
    "            break\n",
    "\n",
    "        # line between disk and center of frame\n",
    "        v1 = np.array([cX-w/2, cY-h/2])\n",
    "        v2 = np.array([1, 0])\n",
    "        dot = np.dot(v1, v2)\n",
    "        det = v1[0]*v2[1] - v1[1]*v2[0]\n",
    "\n",
    "        # angle between disk and center of frame\n",
    "        #angle = np.arctan2(cY - h/2, cX - w/2)\n",
    "        angle = math.atan2(det, dot)\n",
    "\n",
    "        # maybe this is hacky but it works\n",
    "        if angle < 0:\n",
    "            angle += 2*np.pi\n",
    "\n",
    "    return x, y, lat, lon, angle"
   ]
  },
  {
   "cell_type": "code",
   "execution_count": 90,
   "metadata": {},
   "outputs": [
    {
     "name": "stdout",
     "output_type": "stream",
     "text": [
      "0.0 0.0\n",
      "-21.230138267320772 2.9966871532815516\n"
     ]
    }
   ],
   "source": [
    "x1, y1, lat1, lon1, theta1 = analyze(disk_detector, \"./data/start.JPG\")\n",
    "x2, y2, lat2, lon2, theta2 = analyze(disk_detector, \"./data/stop.JPG\" )\n"
   ]
  },
  {
   "cell_type": "code",
   "execution_count": 91,
   "metadata": {},
   "outputs": [],
   "source": [
    "x_predicted, y_predicted = x_algorithm(x1, y1, theta1, x2, y2, theta2)\n",
    "lat_predicted, lon_predicted = cartesian2gps(x_predicted, y_predicted)"
   ]
  },
  {
   "cell_type": "code",
   "execution_count": 92,
   "metadata": {},
   "outputs": [
    {
     "data": {
      "text/plain": [
       "'prediction_vs_truth.html'"
      ]
     },
     "execution_count": 92,
     "metadata": {},
     "output_type": "execute_result"
    }
   ],
   "source": [
    "import plotly.graph_objects as go\n",
    "\n",
    "df = pd.DataFrame({\n",
    "    'Latitude': [lat_predicted, DEFAULTS.true_lat],\n",
    "    'Longitude': [lon_predicted, DEFAULTS.true_lon],\n",
    "    'Label': ['Prediction', 'Truth']\n",
    "})\n",
    "\n",
    "# Create scatter plot\n",
    "fig = px.scatter_mapbox(df, lat='Latitude', lon='Longitude', text='Label')\n",
    "\n",
    "# Add connecting line\n",
    "fig.add_trace(\n",
    "    go.Scattermapbox(\n",
    "        lat=df['Latitude'],\n",
    "        lon=df['Longitude'],\n",
    "        mode='markers+text',\n",
    "        text=df['Label'],\n",
    "        textposition=\"top right\",\n",
    "        marker=dict(size=10)\n",
    "    )\n",
    ")\n",
    "\n",
    "# Update layout with Mapbox properties\n",
    "fig.update_layout(mapbox_style=\"open-street-map\")\n",
    "\n",
    "\n",
    "# Show the plot\n",
    "\n",
    "import plotly.offline as pyo\n",
    "pyo.plot(fig, filename='prediction_vs_truth.html', auto_open=True)"
   ]
  },
  {
   "cell_type": "code",
   "execution_count": 93,
   "metadata": {},
   "outputs": [
    {
     "name": "stdout",
     "output_type": "stream",
     "text": [
      "Distance: 0.021163647447305298 km\n"
     ]
    }
   ],
   "source": [
    "def simpleHav(lat1, long1, lat2, long2, Bearing):\n",
    "    \"\"\"\n",
    "    Given 2 positions provide the distance (shortest distance) great circle arc.\n",
    "    Inputs in degrees lat long\n",
    "    Output is a length in metres\n",
    "    \"\"\"\n",
    "    \n",
    "    AverageR = 6371000  # Earth Radius\n",
    "\n",
    "    a = 6378137 #Semi Major Axis a\n",
    "    b = 6356752 #Semi Minor Axis b\n",
    "    e = np.sqrt(1-(b**2/a**2)) #eccentricity\n",
    "    \n",
    "    rlat1  = np.radians(lat1)\n",
    "    rlong1 = np.radians(long1)\n",
    "    rlat2  = np.radians(lat2)\n",
    "    rlong2 = np.radians(long2)\n",
    "    rBearing = np.radians(Bearing)\n",
    "\n",
    "    GEOcentricRadius = np.sqrt(((a**2*np.cos(rlat1))**2 + (b**2*np.sin(rlat1))**2)/((a*np.cos(rlat1))**2 + (b*np.sin(rlat1))**2))        \n",
    "    \n",
    "    RN = a/np.sqrt(1-e**2*np.sin(rlat1)**2)         #Radius of Curvature in Prime Vertical, terminated by minor axis\n",
    "    RM = RN * ((1-e**2)/(1-e**2*np.sin(rlat1)**2))  #Radius of Curvature: in Meridian \n",
    "    RadiusofCurvature = 1/(np.cos(rBearing)**2/RM + np.sin(rBearing)**2/RN) #Radius of Curvature at azimuth\n",
    "\n",
    "\n",
    "    arclength = np.arccos(np.sin(rlat1)*np.sin(rlat2) + np.cos(rlat1)*np.cos(rlat2)*np.cos(rlong2-rlong1)  )\n",
    "        \n",
    "    distance  = arclength * AverageR\n",
    "    distance1 = arclength * GEOcentricRadius\n",
    "    distance2 = arclength * RadiusofCurvature\n",
    "    \n",
    "    return distance, distance1, distance2\n",
    "\n",
    "print(\"Distance:\", haversine((lat_predicted, lon_predicted), (DEFAULTS.true_lat, DEFAULTS.true_lon)), \"km\")\n",
    "\n",
    "\n",
    "\n",
    "\n",
    "\n"
   ]
  }
 ],
 "metadata": {
  "kernelspec": {
   "display_name": "venv",
   "language": "python",
   "name": "python3"
  },
  "language_info": {
   "codemirror_mode": {
    "name": "ipython",
    "version": 3
   },
   "file_extension": ".py",
   "mimetype": "text/x-python",
   "name": "python",
   "nbconvert_exporter": "python",
   "pygments_lexer": "ipython3",
   "version": "3.11.3"
  },
  "orig_nbformat": 4
 },
 "nbformat": 4,
 "nbformat_minor": 2
}
